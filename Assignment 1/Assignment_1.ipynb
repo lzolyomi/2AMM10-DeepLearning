{
 "cells": [
  {
   "attachments": {},
   "cell_type": "markdown",
   "id": "557bc264",
   "metadata": {
    "colab_type": "text",
    "id": "view-in-github"
   },
   "source": [
    "<a href=\"https://colab.research.google.com/github/vlamen/tue-deeplearning/blob/main/assignments/assignment_1/Assignment_1.ipynb\" target=\"_parent\"><img src=\"https://colab.research.google.com/assets/colab-badge.svg\" alt=\"Open In Colab\"/></a>"
   ]
  },
  {
   "attachments": {},
   "cell_type": "markdown",
   "id": "a4ec9a11-3515-40aa-97ac-73c249df560e",
   "metadata": {
    "id": "a4ec9a11-3515-40aa-97ac-73c249df560e"
   },
   "source": [
    "# Group Number:\n",
    "# Student 1: Gabriel Gomes Ziegler\n",
    "# Student 2: Fabio D'Agostino\n",
    "# Student 3: Levente Zolyómi"
   ]
  },
  {
   "attachments": {},
   "cell_type": "markdown",
   "id": "a8c200a7-b3ab-4c9a-bcf8-320271c040f3",
   "metadata": {
    "id": "a8c200a7-b3ab-4c9a-bcf8-320271c040f3"
   },
   "source": [
    "In case you are using google colab, uncomment the following cell, and modify the ```notebook_dir``` variable to contain the directory this notebook is in. It will automatically download the .py files needed for this assignment"
   ]
  },
  {
   "cell_type": "code",
   "execution_count": 1,
   "id": "igFRsZKIC18S",
   "metadata": {
    "id": "igFRsZKIC18S"
   },
   "outputs": [],
   "source": [
    "# # Change the following  line to the directory this notebook is (if using colab)\n",
    "# # In case you do not know the path, open the file navigator on the left in colab\n",
    "# # Find the folder containing this notebook, then press on the three dots --> copy path\n",
    "# notebook_dir = \"/content/drive/MyDrive/Colab Notebooks/\""
   ]
  },
  {
   "cell_type": "code",
   "execution_count": 2,
   "id": "828246d4-75b2-42b7-ab06-925e6624f411",
   "metadata": {
    "id": "828246d4-75b2-42b7-ab06-925e6624f411"
   },
   "outputs": [],
   "source": [
    "# # UNCOMMENT IF USING COLAB\n",
    "# from google.colab import drive\n",
    "# import requests\n",
    "# drive.mount('/content/drive')\n",
    "# import sys\n",
    "# import os\n",
    "# sys.path.insert(0, notebook_dir) \n",
    "# os.chdir(notebook_dir)\n",
    "# symco = \"https://github.com/vlamen/tue-deeplearning/blob/main/assignments/assignment_1/symconv.py?raw=true\"\n",
    "# crpt = \"https://github.com/vlamen/tue-deeplearning/blob/main/assignments/assignment_1/carpet.py?raw=true\"\n",
    "# r_s = requests.get(symco, allow_redirects=True)\n",
    "# r_c = requests.get(crpt, allow_redirects=True)\n",
    "# with open('symconv.py', 'wb') as f:\n",
    "#     f.write(r_s.content)\n",
    "# with open('carpet.py', 'wb') as f:\n",
    "#     f.write(r_c.content)"
   ]
  },
  {
   "cell_type": "code",
   "execution_count": 124,
   "id": "1c401bd6-3828-4f5e-ada8-a026e0a167bf",
   "metadata": {
    "id": "1c401bd6-3828-4f5e-ada8-a026e0a167bf"
   },
   "outputs": [],
   "source": [
    "import torch\n",
    "import torch.nn as nn\n",
    "import torch.nn.functional as F\n",
    "from torch.utils.data import DataLoader, Dataset, TensorDataset\n",
    "\n",
    "import io\n",
    "import requests\n",
    "\n",
    "import symconv as sc\n",
    "from carpet import show_carpet, oh_to_label\n",
    "\n",
    "import numpy as np\n",
    "import matplotlib.pyplot as plt\n",
    "\n",
    "from scipy.spatial.distance import cdist\n",
    "\n",
    "from tqdm import tqdm"
   ]
  },
  {
   "cell_type": "code",
   "execution_count": 125,
   "id": "35c0bcb8-5215-40b3-8ba2-7e4208651c90",
   "metadata": {
    "id": "35c0bcb8-5215-40b3-8ba2-7e4208651c90"
   },
   "outputs": [],
   "source": [
    "def load_numpy_arr_from_url(url):\n",
    "    \"\"\"\n",
    "    Loads a numpy array from surfdrive. \n",
    "    \n",
    "    Input:\n",
    "    url: Download link of dataset \n",
    "    \n",
    "    Outputs:\n",
    "    dataset: numpy array with input features or labels\n",
    "    \"\"\"\n",
    "    \n",
    "    response = requests.get(url)\n",
    "    response.raise_for_status()\n",
    "\n",
    "    return np.load(io.BytesIO(response.content)) "
   ]
  },
  {
   "attachments": {},
   "cell_type": "markdown",
   "id": "045a1fdc-8c84-4829-b8c8-14c957f733f6",
   "metadata": {
    "id": "045a1fdc-8c84-4829-b8c8-14c957f733f6"
   },
   "source": [
    "# Task 1: Pattern Classification"
   ]
  },
  {
   "cell_type": "code",
   "execution_count": 127,
   "id": "c6f1748c",
   "metadata": {},
   "outputs": [
    {
     "data": {
      "text/plain": [
       "device(type='mps')"
      ]
     },
     "execution_count": 127,
     "metadata": {},
     "output_type": "execute_result"
    }
   ],
   "source": [
    "device = torch.device(\"mps\" if torch.backends.mps.is_available() else \"cpu\")\n",
    "device"
   ]
  },
  {
   "cell_type": "code",
   "execution_count": 128,
   "id": "a45b63ab-610e-4e03-b1da-a717c2a77c8a",
   "metadata": {
    "id": "a45b63ab-610e-4e03-b1da-a717c2a77c8a"
   },
   "outputs": [
    {
     "name": "stdout",
     "output_type": "stream",
     "text": [
      "Carpet train shape: torch.Size([7500, 1, 96, 60])\n",
      "Label train shape: torch.Size([7500, 3])\n",
      "Carpet validation shape: torch.Size([2000, 1, 96, 60])\n",
      "Label validation shape: torch.Size([2000, 3])\n",
      "Carpet test shape: torch.Size([500, 1, 96, 60])\n",
      "Label test shape: torch.Size([500, 3])\n"
     ]
    }
   ],
   "source": [
    "# loading training and testing data for task 1\n",
    "# DO NOT MODIFY\n",
    "task1 = load_numpy_arr_from_url(\"https://github.com/vlamen/tue-deeplearning/blob/main/assignments/assignment_1/task1data.npz?raw=true\")\n",
    "# task1 = np.load(\"task1data.npz\")\n",
    "\n",
    "X = torch.tensor(task1['arr_0']).float()\n",
    "y = torch.tensor(task1['arr_1']).float()\n",
    "\n",
    "X_train = X[:7500]\n",
    "X_val = X[7500:9500]\n",
    "X_test = X[9500:]\n",
    "y_train = y[:7500]\n",
    "y_val = y[7500:9500]\n",
    "y_test  = y[9500:]\n",
    "\n",
    "train_dataset = TensorDataset(X_train, y_train)\n",
    "val_dataset = TensorDataset(X_val, y_val)\n",
    "test_dataset = TensorDataset(X_test, y_test)\n",
    "\n",
    "\n",
    "print(f\"Carpet train shape: {X_train.shape}\")\n",
    "print(f\"Label train shape: {y_train.shape}\")\n",
    "print(f\"Carpet validation shape: {X_val.shape}\")\n",
    "print(f\"Label validation shape: {y_val.shape}\")\n",
    "print(f\"Carpet test shape: {X_test.shape}\")\n",
    "print(f\"Label test shape: {y_test.shape}\")"
   ]
  },
  {
   "cell_type": "code",
   "execution_count": 129,
   "id": "a4c5553f-023f-48fc-81b5-83184a46a21d",
   "metadata": {
    "id": "a4c5553f-023f-48fc-81b5-83184a46a21d"
   },
   "outputs": [
    {
     "name": "stdout",
     "output_type": "stream",
     "text": [
      "Carpet from Transformabad\n"
     ]
    },
    {
     "data": {
      "image/png": "[encoded data removed]",
      "text/plain": [
       "<Figure size 640x480 with 1 Axes>"
      ]
     },
     "metadata": {},
     "output_type": "display_data"
    }
   ],
   "source": [
    "# random carpet\n",
    "idx = np.random.randint(0,7500)\n",
    "show_carpet(X_train, idx)\n",
    "print('Carpet from', oh_to_label(y_train[idx,None])[0])"
   ]
  },
  {
   "cell_type": "code",
   "execution_count": 131,
   "id": "7a5db004-5dbf-42b3-a665-3c97c293d6c5",
   "metadata": {
    "id": "7a5db004-5dbf-42b3-a665-3c97c293d6c5"
   },
   "outputs": [],
   "source": [
    "import torch.optim as optim\n",
    "import torch.nn.functional as F\n",
    "from torch.utils.data import DataLoader\n",
    "from torch.utils.tensorboard import SummaryWriter\n",
    "\n",
    "\n",
    "def train_model(train_dataset, val_dataset, model, num_epochs, learning_rate=0.001, batch_size=64, device='cuda'):\n",
    "    train_loader = DataLoader(train_dataset, batch_size=batch_size, shuffle=True)\n",
    "    val_loader = DataLoader(val_dataset, batch_size=batch_size, shuffle=False)\n",
    "\n",
    "    criterion = torch.nn.CrossEntropyLoss()\n",
    "    optimizer = optim.Adam(model.parameters(), lr=learning_rate)\n",
    "\n",
    "    model.to(device)\n",
    "\n",
    "    writer = SummaryWriter()\n",
    "\n",
    "    for epoch in range(num_epochs):\n",
    "        model.train()\n",
    "\n",
    "        train_loss = 0\n",
    "        train_correct = 0\n",
    "        for X_batch, y_batch in train_loader:\n",
    "            X_batch, y_batch = X_batch.to(device), y_batch.to(device)\n",
    "            y_batch_indices = torch.argmax(y_batch, axis=1)  # Convert one-hot to indices\n",
    "\n",
    "            output = model(X_batch)\n",
    "            loss = criterion(output, y_batch_indices)\n",
    "\n",
    "            optimizer.zero_grad()\n",
    "            loss.backward()\n",
    "            optimizer.step()\n",
    "\n",
    "            _, predicted = output.max(1)\n",
    "            train_correct += predicted.eq(y_batch_indices).sum().item()\n",
    "            train_loss += loss.item()\n",
    "\n",
    "        train_loss /= len(train_loader)\n",
    "        train_acc = train_correct / len(train_dataset)\n",
    "\n",
    "        model.eval()\n",
    "        with torch.no_grad():\n",
    "            val_loss = 0\n",
    "            val_correct = 0\n",
    "            for X_batch, y_batch in val_loader:\n",
    "                X_batch, y_batch = X_batch.to(device), y_batch.to(device)\n",
    "                y_batch_indices = torch.argmax(y_batch, axis=1)  # Convert one-hot to indices\n",
    "\n",
    "                output = model(X_batch)\n",
    "                loss = criterion(output, y_batch_indices)\n",
    "\n",
    "                _, predicted = output.max(1)\n",
    "                val_correct += predicted.eq(y_batch_indices).sum().item()\n",
    "                val_loss += loss.item()\n",
    "\n",
    "        val_loss /= len(val_loader)\n",
    "        val_acc = val_correct / len(val_dataset)\n",
    "\n",
    "        # plot train and validation in the same plot\n",
    "        writer.add_scalars('Loss', {'train': train_loss, 'val': val_loss}, epoch, )\n",
    "        writer.add_scalars('Accuracy', {'train': train_acc, 'val': val_acc}, epoch)\n",
    "\n",
    "        print(f'Epoch: {epoch+1}/{num_epochs}, Train Loss: {train_loss:.6f}, Train Acc: {train_acc:.6f}, Val Loss: {val_loss:.6f}, Val Acc: {val_acc:.6f}')\n"
   ]
  },
  {
   "cell_type": "code",
   "execution_count": 132,
   "id": "848a3f4e",
   "metadata": {},
   "outputs": [],
   "source": [
    "from symconv import Slice, SymmetryConv2d, SymmetryPool\n",
    "\n",
    "class SymmetryCNN(nn.Module):\n",
    "    def __init__(self, n_classes=3):\n",
    "        super(SymmetryCNN, self).__init__()\n",
    "        \n",
    "        # unit cell (4-fold rotation), 18 filters (18 different unit cells)\n",
    "        self.slice4 = Slice(rotation=4, reflection=False)\n",
    "        self.conv1 = SymmetryConv2d(in_filters=1, out_filters=18, kernel_size=4, stride=4, rotation=4, reflection=False)\n",
    "\n",
    "        # super cell (1-fold rotation), 12 filters (12 different super cells)\n",
    "        self.slice1 = Slice(rotation=1, reflection=False)\n",
    "        self.conv2 = SymmetryConv2d(in_filters=18, out_filters=12, kernel_size=3, stride=3, rotation=1, reflection=False)\n",
    "\n",
    "        self.relu = nn.ReLU()\n",
    "        self.pool = SymmetryPool()\n",
    "\n",
    "        # Classifier head\n",
    "        self.fc1 = nn.Linear(480, 256)\n",
    "        self.fc2 = nn.Linear(256, n_classes)\n",
    "\n",
    "    def forward(self, x):\n",
    "        # Unit cell\n",
    "        x = self.slice4(x)\n",
    "        x = self.conv1(x)\n",
    "        x = self.relu(x)\n",
    "        x = self.pool(x)\n",
    "\n",
    "        # Super cell (NO ROTATION)\n",
    "        x = self.slice1(x)\n",
    "        x = self.conv2(x)\n",
    "        x = self.relu(x)\n",
    "        x = self.pool(x) # 8x5 activations  \n",
    "\n",
    "        # Classifier head\n",
    "        x = torch.flatten(x, 1)\n",
    "        x = self.fc1(x)\n",
    "        x = self.relu(x)\n",
    "        x = self.fc2(x)\n",
    "\n",
    "        return x"
   ]
  },
  {
   "cell_type": "code",
   "execution_count": 133,
   "id": "b37d98ac",
   "metadata": {},
   "outputs": [
    {
     "name": "stdout",
     "output_type": "stream",
     "text": [
      "Epoch: 1/15, Train Loss: 3.523444, Train Acc: 0.334800, Val Loss: 1.245083, Val Acc: 0.347500\n",
      "Epoch: 2/15, Train Loss: 1.144220, Train Acc: 0.383067, Val Loss: 1.102449, Val Acc: 0.372500\n",
      "Epoch: 3/15, Train Loss: 1.061932, Train Acc: 0.434400, Val Loss: 1.338138, Val Acc: 0.349000\n",
      "Epoch: 4/15, Train Loss: 0.979527, Train Acc: 0.524933, Val Loss: 0.855180, Val Acc: 0.643000\n",
      "Epoch: 5/15, Train Loss: 0.741425, Train Acc: 0.707467, Val Loss: 0.725968, Val Acc: 0.669000\n",
      "Epoch: 6/15, Train Loss: 0.504076, Train Acc: 0.848133, Val Loss: 0.391877, Val Acc: 0.915500\n",
      "Epoch: 7/15, Train Loss: 0.301730, Train Acc: 0.932933, Val Loss: 0.274825, Val Acc: 0.941000\n",
      "Epoch: 8/15, Train Loss: 0.173539, Train Acc: 0.971867, Val Loss: 0.177287, Val Acc: 0.949500\n",
      "Epoch: 9/15, Train Loss: 0.109490, Train Acc: 0.984267, Val Loss: 0.136794, Val Acc: 0.957000\n",
      "Epoch: 10/15, Train Loss: 0.073899, Train Acc: 0.990267, Val Loss: 0.085239, Val Acc: 0.985500\n",
      "Epoch: 11/15, Train Loss: 0.053747, Train Acc: 0.993600, Val Loss: 0.061092, Val Acc: 0.988500\n",
      "Epoch: 12/15, Train Loss: 0.040125, Train Acc: 0.996400, Val Loss: 0.055596, Val Acc: 0.986500\n",
      "Epoch: 13/15, Train Loss: 0.032470, Train Acc: 0.997600, Val Loss: 0.054520, Val Acc: 0.985000\n",
      "Epoch: 14/15, Train Loss: 0.031257, Train Acc: 0.996000, Val Loss: 0.070144, Val Acc: 0.984000\n",
      "Epoch: 15/15, Train Loss: 0.020608, Train Acc: 0.998533, Val Loss: 0.029848, Val Acc: 0.995500\n"
     ]
    }
   ],
   "source": [
    "batch_size = 128\n",
    "epochs = 15\n",
    "\n",
    "device = torch.device(\"mps\" if torch.backends.mps.is_available() else \"cpu\")\n",
    "\n",
    "symmetryCNN = SymmetryCNN()\n",
    "\n",
    "# train the model\n",
    "train_model(train_dataset, val_dataset, symmetryCNN, num_epochs=epochs,\n",
    "            learning_rate=0.001, batch_size=batch_size, device=device)"
   ]
  },
  {
   "cell_type": "code",
   "execution_count": 134,
   "id": "17e179c9",
   "metadata": {},
   "outputs": [
    {
     "name": "stdout",
     "output_type": "stream",
     "text": [
      "Test Acc: 0.998000\n"
     ]
    }
   ],
   "source": [
    "# evaluate test accuracy\n",
    "test_loader = DataLoader(test_dataset, batch_size=batch_size, shuffle=False)\n",
    "symmetryCNN.eval()\n",
    "with torch.no_grad():\n",
    "    test_correct = 0\n",
    "    for X_batch, y_batch in test_loader:\n",
    "        X_batch, y_batch = X_batch.to(device), y_batch.to(device)\n",
    "        y_batch_indices = torch.argmax(y_batch, axis=1)  # Convert one-hot to indices\n",
    "\n",
    "        output = symmetryCNN(X_batch)\n",
    "        _, predicted = output.max(1)\n",
    "        test_correct += predicted.eq(y_batch_indices).sum().item()\n",
    "\n",
    "    test_acc = test_correct / len(test_dataset)\n",
    "    print(f'Test Acc: {test_acc:.6f}')"
   ]
  },
  {
   "attachments": {},
   "cell_type": "markdown",
   "id": "06c5a8d4",
   "metadata": {},
   "source": [
    "## Task 1: Question 5d"
   ]
  },
  {
   "cell_type": "code",
   "execution_count": 136,
   "id": "b4edef15",
   "metadata": {},
   "outputs": [
    {
     "name": "stdout",
     "output_type": "stream",
     "text": [
      "Epoch: 1/10, Train Loss: 2.448833, Train Acc: 0.602133, Val Loss: 0.368520, Val Acc: 0.873000\n",
      "Epoch: 2/10, Train Loss: 0.165378, Train Acc: 0.958400, Val Loss: 0.078732, Val Acc: 0.985000\n",
      "Epoch: 3/10, Train Loss: 0.047580, Train Acc: 0.991733, Val Loss: 0.036806, Val Acc: 0.991500\n",
      "Epoch: 4/10, Train Loss: 0.025090, Train Acc: 0.996400, Val Loss: 0.019905, Val Acc: 0.996000\n",
      "Epoch: 5/10, Train Loss: 0.015401, Train Acc: 0.998800, Val Loss: 0.017287, Val Acc: 0.994500\n",
      "Epoch: 6/10, Train Loss: 0.012001, Train Acc: 0.998933, Val Loss: 0.013401, Val Acc: 0.997000\n",
      "Epoch: 7/10, Train Loss: 0.016451, Train Acc: 0.997333, Val Loss: 0.011385, Val Acc: 0.997500\n",
      "Epoch: 8/10, Train Loss: 0.008275, Train Acc: 0.998667, Val Loss: 0.018257, Val Acc: 0.994500\n",
      "Epoch: 9/10, Train Loss: 0.005424, Train Acc: 0.999733, Val Loss: 0.006707, Val Acc: 0.998500\n",
      "Epoch: 10/10, Train Loss: 0.006370, Train Acc: 0.999067, Val Loss: 0.011032, Val Acc: 0.996000\n"
     ]
    }
   ],
   "source": [
    "#EXPERIMENT 1\n",
    "#[Tried] Changed the rotation number of the Slice layer before the second SymmetricConv2d layer from 1 to 4. The validation accuracy improves slower\n",
    "#Added an additional slice-conv-pool step before the final fully connected layer. The validation accuracy improves slower but the accuracy reaches good level after a few more epochs\n",
    "#by using a way less amount of parameters\n",
    "\n",
    "from symconv import Slice, SymmetryConv2d, SymmetryPool\n",
    "\n",
    "class SymmetryCNN_1(nn.Module):\n",
    "    def __init__(self, n_classes=3):\n",
    "        super(SymmetryCNN_1, self).__init__()\n",
    "        \n",
    "        # unit cell (4-fold rotation), 18 filters (18 different unit cells)\n",
    "        self.slice4 = Slice(rotation=4, reflection=False)\n",
    "        self.conv1 = SymmetryConv2d(in_filters=1, out_filters=18, kernel_size=4, stride=4, rotation=4, reflection=False)\n",
    "\n",
    "        # super cell (1-fold rotation), 12 filters (12 different super cells)\n",
    "        self.slice1 = Slice(rotation=1, reflection=False)\n",
    "        self.conv2 = SymmetryConv2d(in_filters=18, out_filters=12, kernel_size=3, stride=3, rotation=1, reflection=False)\n",
    "\n",
    "        # global pattern (1-fold rotation), 12 filters (12 different super cells)\n",
    "        self.slice1 = Slice(rotation=1, reflection=False)\n",
    "        self.conv3 = SymmetryConv2d(in_filters=12, out_filters=1, kernel_size=1, stride=1, rotation=1, reflection=False)\n",
    "\n",
    "        self.relu = nn.ReLU()\n",
    "        self.pool = SymmetryPool()\n",
    "\n",
    "        # Classifier head\n",
    "        self.fc1 = nn.Linear(40, 64)\n",
    "        self.fc2 = nn.Linear(64, n_classes)\n",
    "\n",
    "    def forward(self, x):\n",
    "        # Unit cell\n",
    "        x = self.slice4(x)\n",
    "        x = self.conv1(x)\n",
    "        x = self.relu(x)\n",
    "        x = self.pool(x)\n",
    "\n",
    "        # Super cell (NO ROTATION)\n",
    "        x = self.slice1(x)\n",
    "        x = self.conv2(x)\n",
    "        x = self.relu(x)\n",
    "        x = self.pool(x) # 8x5 activations  \n",
    "\n",
    "        # Global pattern (NO ROTATION)\n",
    "        x = self.slice1(x)\n",
    "        x = self.conv3(x)\n",
    "        x = self.relu(x)\n",
    "        x = self.pool(x)  \n",
    "\n",
    "        # Classifier head\n",
    "        x = torch.flatten(x, 1)\n",
    "        x = self.fc1(x)\n",
    "        x = self.relu(x)\n",
    "        x = self.fc2(x)\n",
    "\n",
    "        return x\n",
    "\n",
    "# train the model\n",
    "train_model(train_dataset, val_dataset, SymmetryCNN_1(), num_epochs=10, learning_rate=0.001, batch_size=64, device = torch.device(\"cuda\" if torch.cuda.is_available() else \"cpu\"))"
   ]
  },
  {
   "cell_type": "code",
   "execution_count": 137,
   "id": "b2d7177b",
   "metadata": {},
   "outputs": [
    {
     "name": "stdout",
     "output_type": "stream",
     "text": [
      "Epoch: 1/10, Train Loss: 3.991655, Train Acc: 0.343733, Val Loss: 1.579590, Val Acc: 0.347000\n",
      "Epoch: 2/10, Train Loss: 1.203628, Train Acc: 0.384133, Val Loss: 1.466566, Val Acc: 0.385000\n",
      "Epoch: 3/10, Train Loss: 1.025863, Train Acc: 0.500933, Val Loss: 1.065092, Val Acc: 0.462500\n",
      "Epoch: 4/10, Train Loss: 0.703558, Train Acc: 0.708400, Val Loss: 0.562698, Val Acc: 0.773500\n",
      "Epoch: 5/10, Train Loss: 0.315916, Train Acc: 0.906933, Val Loss: 0.183595, Val Acc: 0.955500\n",
      "Epoch: 6/10, Train Loss: 0.136452, Train Acc: 0.970133, Val Loss: 0.115265, Val Acc: 0.973500\n",
      "Epoch: 7/10, Train Loss: 0.076144, Train Acc: 0.987200, Val Loss: 0.080078, Val Acc: 0.987000\n",
      "Epoch: 8/10, Train Loss: 0.044733, Train Acc: 0.994000, Val Loss: 0.090027, Val Acc: 0.966500\n",
      "Epoch: 9/10, Train Loss: 0.032787, Train Acc: 0.995867, Val Loss: 0.046153, Val Acc: 0.988500\n",
      "Epoch: 10/10, Train Loss: 0.034978, Train Acc: 0.992400, Val Loss: 0.059758, Val Acc: 0.981500\n"
     ]
    }
   ],
   "source": [
    "#EXPERIMENT 2\n",
    "#Changed activation function with ELU instead of ReLU. Validation accuracy improves slower. Probably it's trivial\n",
    "from symconv import Slice, SymmetryConv2d, SymmetryPool\n",
    "\n",
    "class SymmetryCNN_2(nn.Module):\n",
    "    def __init__(self, n_classes=3):\n",
    "        super(SymmetryCNN_2, self).__init__()\n",
    "        \n",
    "        # unit cell (4-fold rotation), 18 filters (18 different unit cells)\n",
    "        self.slice4 = Slice(rotation=4, reflection=False)\n",
    "        self.conv1 = SymmetryConv2d(in_filters=1, out_filters=18, kernel_size=4, stride=4, rotation=4, reflection=False)\n",
    "\n",
    "        # super cell (1-fold rotation), 12 filters (12 different super cells)\n",
    "        self.slice1 = Slice(rotation=1, reflection=False)\n",
    "        self.conv2 = SymmetryConv2d(in_filters=18, out_filters=12, kernel_size=3, stride=3, rotation=1, reflection=False)\n",
    "\n",
    "        self.elu = nn.ELU()\n",
    "        self.pool = SymmetryPool()\n",
    "\n",
    "        # Classifier head\n",
    "        self.fc1 = nn.Linear(480, 256)\n",
    "        self.fc2 = nn.Linear(256, n_classes)\n",
    "\n",
    "    def forward(self, x):\n",
    "        # Unit cell\n",
    "        x = self.slice4(x)\n",
    "        x = self.conv1(x)\n",
    "        x = self.elu(x)\n",
    "        x = self.pool(x)\n",
    "\n",
    "        # Super cell (NO ROTATION)\n",
    "        x = self.slice1(x)\n",
    "        x = self.conv2(x)\n",
    "        x = self.elu(x)\n",
    "        x = self.pool(x) # 8x5 activations  \n",
    "\n",
    "        # Classifier head\n",
    "        x = torch.flatten(x, 1)\n",
    "        x = self.fc1(x)\n",
    "        x = self.elu(x)\n",
    "        x = self.fc2(x)\n",
    "\n",
    "        return x\n",
    "\n",
    "# train the model\n",
    "train_model(train_dataset, val_dataset, SymmetryCNN_2(), num_epochs=10, learning_rate=0.001, batch_size=64, device = torch.device(\"cuda\" if torch.cuda.is_available() else \"cpu\"))"
   ]
  },
  {
   "cell_type": "code",
   "execution_count": 138,
   "id": "f27c4bd5",
   "metadata": {},
   "outputs": [
    {
     "name": "stdout",
     "output_type": "stream",
     "text": [
      "Epoch: 1/10, Train Loss: 3.828561, Train Acc: 0.334667, Val Loss: 1.989591, Val Acc: 0.345000\n",
      "Epoch: 2/10, Train Loss: 1.520546, Train Acc: 0.353600, Val Loss: 1.238425, Val Acc: 0.360000\n",
      "Epoch: 3/10, Train Loss: 1.250538, Train Acc: 0.351467, Val Loss: 1.219656, Val Acc: 0.336500\n",
      "Epoch: 4/10, Train Loss: 1.178595, Train Acc: 0.365600, Val Loss: 1.178793, Val Acc: 0.339000\n",
      "Epoch: 5/10, Train Loss: 1.145041, Train Acc: 0.376667, Val Loss: 1.126086, Val Acc: 0.372500\n",
      "Epoch: 6/10, Train Loss: 1.137218, Train Acc: 0.369067, Val Loss: 1.170730, Val Acc: 0.361000\n",
      "Epoch: 7/10, Train Loss: 1.120919, Train Acc: 0.387867, Val Loss: 1.130089, Val Acc: 0.372500\n",
      "Epoch: 8/10, Train Loss: 1.109911, Train Acc: 0.402000, Val Loss: 1.124037, Val Acc: 0.370500\n",
      "Epoch: 9/10, Train Loss: 1.104551, Train Acc: 0.400267, Val Loss: 1.129454, Val Acc: 0.370500\n",
      "Epoch: 10/10, Train Loss: 1.100151, Train Acc: 0.412933, Val Loss: 1.116804, Val Acc: 0.387000\n"
     ]
    }
   ],
   "source": [
    "#EXPERIMENT 3\n",
    "#Removed the linear layer before the output layer. The loss doesn't converge anymore, really interesting \n",
    "from symconv import Slice, SymmetryConv2d, SymmetryPool\n",
    "\n",
    "class SymmetryCNN_3(nn.Module):\n",
    "    def __init__(self, n_classes=3):\n",
    "        super(SymmetryCNN_3, self).__init__()\n",
    "        \n",
    "        # unit cell (4-fold rotation), 18 filters (18 different unit cells)\n",
    "        self.slice4 = Slice(rotation=4, reflection=False)\n",
    "        self.conv1 = SymmetryConv2d(in_filters=1, out_filters=18, kernel_size=4, stride=4, rotation=4, reflection=False)\n",
    "\n",
    "        # super cell (1-fold rotation), 12 filters (12 different super cells)\n",
    "        self.slice1 = Slice(rotation=1, reflection=False)\n",
    "        self.conv2 = SymmetryConv2d(in_filters=18, out_filters=12, kernel_size=3, stride=3, rotation=1, reflection=False)\n",
    "\n",
    "        self.relu = nn.ReLU()\n",
    "        self.pool = SymmetryPool()\n",
    "\n",
    "        # Classifier head\n",
    "        self.fc2 = nn.Linear(480, n_classes)\n",
    "\n",
    "    def forward(self, x):\n",
    "        # Unit cell\n",
    "        x = self.slice4(x)\n",
    "        x = self.conv1(x)\n",
    "        x = self.relu(x)\n",
    "        x = self.pool(x)\n",
    "\n",
    "        # Super cell (NO ROTATION)\n",
    "        x = self.slice1(x)\n",
    "        x = self.conv2(x)\n",
    "        x = self.relu(x)\n",
    "        x = self.pool(x) # 8x5 activations  \n",
    "\n",
    "        # Classifier head\n",
    "        x = torch.flatten(x, 1)\n",
    "        x = self.relu(x)\n",
    "        x = self.fc2(x)\n",
    "\n",
    "        return x\n",
    "\n",
    "# train the model\n",
    "train_model(train_dataset, val_dataset, SymmetryCNN_3(), num_epochs=10, learning_rate=0.001, batch_size=64, device = torch.device(\"cuda\" if torch.cuda.is_available() else \"cpu\"))"
   ]
  },
  {
   "attachments": {},
   "cell_type": "markdown",
   "id": "1e988bc2-6ba1-49cd-ae26-6feea8ad2776",
   "metadata": {
    "id": "1e988bc2-6ba1-49cd-ae26-6feea8ad2776"
   },
   "source": [
    "# Task 2: Carpet Matching "
   ]
  },
  {
   "cell_type": "code",
   "execution_count": 11,
   "id": "20a2ce3a-4c8c-4f1f-9a29-113063ce7f74",
   "metadata": {
    "id": "20a2ce3a-4c8c-4f1f-9a29-113063ce7f74"
   },
   "outputs": [
    {
     "name": "stdout",
     "output_type": "stream",
     "text": [
      "Carpet train shape: (15000, 1, 96, 60)\n",
      "Label train shape: (15000,)\n",
      "Ground truth test shape: (300,)\n",
      "Query carpets shape: (300, 1, 96, 60)\n",
      "Candidate carpets shape: (300, 4, 1, 96, 60)\n"
     ]
    }
   ],
   "source": [
    "# loading training and testing data for task 2\n",
    "# DO NOT MODIFY\n",
    "task2 = load_numpy_arr_from_url(\"https://github.com/vlamen/tue-deeplearning/blob/main/assignments/assignment_1/task2data.npz?raw=true\")\n",
    "# task2 = np.load('task2data.npz')\n",
    "\n",
    "X = task2['arr_0'].astype(float)\n",
    "y = task2['arr_1'].astype(float)\n",
    "gt = task2['arr_2'].astype(float) # ground truth\n",
    "queries = task2['arr_3'].astype(float)\n",
    "targets = task2['arr_4'].astype(float)\n",
    "\n",
    "print(f\"Carpet train shape: {X.shape}\")\n",
    "print(f\"Label train shape: {y.shape}\")\n",
    "print(f\"Ground truth test shape: {gt.shape}\")\n",
    "print(f\"Query carpets shape: {queries.shape}\")\n",
    "print(f\"Candidate carpets shape: {targets.shape}\")"
   ]
  },
  {
   "attachments": {},
   "cell_type": "markdown",
   "id": "1a1cf2b3",
   "metadata": {},
   "source": [
    "# Modify model to produce embeddings and use triplet loss on training"
   ]
  },
  {
   "cell_type": "code",
   "execution_count": 12,
   "id": "be96cf2a",
   "metadata": {},
   "outputs": [],
   "source": [
    "from symconv import Slice, SymmetryConv2d, SymmetryPool\n",
    "\n",
    "class EmbeddingCNN(nn.Module):\n",
    "    def __init__(self, embedding_dim=128):\n",
    "        super().__init__()\n",
    "        \n",
    "        # unit cell (4-fold rotation), 18 filters (18 different unit cells)\n",
    "        self.slice4 = Slice(rotation=4, reflection=False)\n",
    "        self.conv1 = SymmetryConv2d(in_filters=1, out_filters=18, kernel_size=4, stride=4, rotation=4, reflection=False)\n",
    "\n",
    "        # super cell (1-fold rotation), 12 filters (12 different super cells)\n",
    "        self.slice1 = Slice(rotation=1, reflection=False)\n",
    "        self.conv2 = SymmetryConv2d(in_filters=18, out_filters=12, kernel_size=3, stride=3, rotation=1, reflection=False)\n",
    "\n",
    "        self.relu = nn.ReLU()\n",
    "        self.pool = SymmetryPool()\n",
    "\n",
    "        # Embedding head with one fully connected layer\n",
    "        self.fc1 = nn.Linear(480, embedding_dim)\n",
    "\n",
    "    def forward(self, x):\n",
    "        # Unit cell\n",
    "        x = self.slice4(x)\n",
    "        x = self.conv1(x)\n",
    "        x = self.relu(x)\n",
    "        x = self.pool(x)\n",
    "\n",
    "        # Super cell (NO ROTATION)\n",
    "        x = self.slice1(x)\n",
    "        x = self.conv2(x)\n",
    "        x = self.relu(x)\n",
    "        x = self.pool(x) # 8x5 activations  \n",
    "\n",
    "        # Embedding head\n",
    "        x = torch.flatten(x, 1)\n",
    "        x = self.fc1(x)\n",
    "\n",
    "        return x"
   ]
  },
  {
   "cell_type": "code",
   "execution_count": 13,
   "id": "a6e638b2",
   "metadata": {},
   "outputs": [],
   "source": [
    "from torch.utils.data.sampler import BatchSampler\n",
    "import numpy as np\n",
    "class BalancedBatchSampler(BatchSampler):\n",
    "    \"\"\"\n",
    "    Returns batches of size n_classes * n_samples\n",
    "    \"\"\"\n",
    "\n",
    "    def __init__(self, labels, n_classes, n_samples):\n",
    "        self.labels = labels\n",
    "        self.labels_set = list(set(self.labels))\n",
    "        self.label_to_indices = {label: np.where(  np.array(self.labels) == label)[0]\n",
    "                                 for label in self.labels_set}\n",
    "        for l in self.labels_set:\n",
    "            np.random.shuffle(self.label_to_indices[l])\n",
    "        self.used_label_indices_count = {label: 0 for label in self.labels_set}\n",
    "        self.count = 0\n",
    "        self.n_classes = n_classes\n",
    "        self.n_samples = n_samples\n",
    "        self.n_dataset = len(self.labels)\n",
    "        self.batch_size = self.n_samples * self.n_classes\n",
    "\n",
    "    def __iter__(self):\n",
    "        self.count = 0\n",
    "        while self.count + self.batch_size < self.n_dataset:\n",
    "            classes = np.random.choice(self.labels_set, self.n_classes, replace=False)\n",
    "            indices = []\n",
    "            for class_ in classes:\n",
    "                indices.extend(self.label_to_indices[class_][\n",
    "                               self.used_label_indices_count[class_]:self.used_label_indices_count[\n",
    "                                                                         class_] + self.n_samples])\n",
    "                self.used_label_indices_count[class_] += self.n_samples\n",
    "                if self.used_label_indices_count[class_] + self.n_samples > len(self.label_to_indices[class_]):\n",
    "                    np.random.shuffle(self.label_to_indices[class_])\n",
    "                    self.used_label_indices_count[class_] = 0\n",
    "            yield indices\n",
    "            self.count += self.n_classes * self.n_samples\n",
    "\n",
    "    def __len__(self):\n",
    "        return self.n_dataset // self.batch_size"
   ]
  },
  {
   "cell_type": "code",
   "execution_count": 14,
   "id": "2b615ccb",
   "metadata": {},
   "outputs": [],
   "source": [
    "from itertools import combinations\n",
    "\n",
    "class RandomTripletSelector():\n",
    "    \"\"\"\n",
    "    Select random negative  example for  each positive pair  to create triplets\n",
    "    \"\"\"\n",
    "\n",
    "    def __init__(self):\n",
    "        super(RandomTripletSelector, self).__init__()\n",
    "\n",
    "    def get_triplets(self, embeddings, labels):\n",
    "        labels = labels.cpu().data.numpy()\n",
    "        triplets = []\n",
    "        for label in np.unique(labels):\n",
    "            label_mask = (labels == label)\n",
    "            label_indices = np.where(label_mask)[0]\n",
    "            if len(label_indices) < 2:\n",
    "                continue\n",
    "            negative_indices = np.where(np.logical_not(label_mask))[0]\n",
    "            anchor_positives = list(combinations(label_indices, 2))  # All anchor-positive pairs\n",
    "\n",
    "            # random choose one negative example for each positive pair\n",
    "            temp_triplets = [[anchor_positive[0], anchor_positive[1], np.random.choice(negative_indices)] for anchor_positive in anchor_positives]\n",
    "            triplets += temp_triplets\n",
    "\n",
    "        return torch.LongTensor(np.array(triplets))"
   ]
  },
  {
   "cell_type": "code",
   "execution_count": 15,
   "id": "508132aa",
   "metadata": {},
   "outputs": [],
   "source": [
    "class TripletLoss(nn.Module):\n",
    "    \"\"\"\n",
    "    Triplets loss\n",
    "    Takes a batch of embeddings and corresponding labels.\n",
    "    Triplets are generated using triplet_selector object that take embeddings and targets and return indices of\n",
    "    triplets\n",
    "    \"\"\"\n",
    "\n",
    "    def __init__(self, margin, triplet_selector):\n",
    "        super(TripletLoss, self).__init__()\n",
    "        self.margin = margin\n",
    "        self.triplet_selector = triplet_selector\n",
    "\n",
    "    def forward(self, embeddings, target):\n",
    "        triplets = self.triplet_selector.get_triplets(embeddings, target)\n",
    "\n",
    "        if embeddings.is_cuda:\n",
    "            triplets = triplets.cuda()\n",
    "\n",
    "        anchor_idx = triplets[:, 0]\n",
    "        positive_idx = triplets[:, 1]\n",
    "        negative_idx = triplets[:, 2]\n",
    "\n",
    "        ap_distances = (\n",
    "            embeddings[anchor_idx] - embeddings[positive_idx]).pow(2).sum(1)  # .pow(.5)\n",
    "        an_distances = (\n",
    "            embeddings[anchor_idx] - embeddings[negative_idx]).pow(2).sum(1)  # .pow(.5)\n",
    "        losses = F.relu(ap_distances - an_distances + self.margin)\n",
    "\n",
    "        return losses.mean()\n"
   ]
  },
  {
   "cell_type": "code",
   "execution_count": 16,
   "id": "dc21f329",
   "metadata": {},
   "outputs": [],
   "source": [
    "embedding_train = TensorDataset(torch.tensor(X, dtype=torch.float32), torch.tensor(y, dtype=torch.long))"
   ]
  },
  {
   "cell_type": "code",
   "execution_count": 17,
   "id": "1cb002c4",
   "metadata": {},
   "outputs": [],
   "source": [
    "# get target \n",
    "embbeding_train_loader = DataLoader(embedding_train, batch_size=1, shuffle=False)"
   ]
  },
  {
   "cell_type": "code",
   "execution_count": 18,
   "id": "5c7bdd0a",
   "metadata": {},
   "outputs": [],
   "source": [
    "train_batch_sampler = BalancedBatchSampler(y, n_classes=len(np.unique(y)), n_samples=10)\n",
    "# test_batch_sampler = BalancedBatchSampler(test_dataset.targets, n_classes=10, n_samples=25)\n",
    "\n",
    "triplets_train_loader = torch.utils.data.DataLoader(embedding_train, batch_sampler=train_batch_sampler)\n",
    "# triplets_test_loader = torch.utils.data.DataLoader(test_dataset)"
   ]
  },
  {
   "cell_type": "code",
   "execution_count": 19,
   "id": "0cca2ca9",
   "metadata": {},
   "outputs": [],
   "source": [
    "import numpy as np\n",
    "from tqdm import tqdm\n",
    "\n",
    "class Trainer():\n",
    "    def __init__(self,\n",
    "                 model: torch.nn.Module,\n",
    "                 device: torch.device,\n",
    "                 criterion: torch.nn.Module,\n",
    "                 optimizer: torch.optim.Optimizer,\n",
    "                 training_DataLoader: torch.utils.data.Dataset,\n",
    "                 validation_DataLoader: torch.utils.data.Dataset,\n",
    "                 epochs: int\n",
    "                 ):\n",
    "\n",
    "        self.model = model\n",
    "        self.criterion = criterion\n",
    "        self.optimizer = optimizer\n",
    "        self.training_DataLoader = training_DataLoader\n",
    "        self.validation_DataLoader = validation_DataLoader\n",
    "        self.device = device\n",
    "        self.epochs = epochs\n",
    "\n",
    "    def run_trainer(self):\n",
    "\n",
    "        for epoch in tqdm(range(self.epochs)):\n",
    "\n",
    "            self.model.train()  # train mode\n",
    "\n",
    "            train_losses = []\n",
    "            for batch in self.training_DataLoader:\n",
    "\n",
    "                x, y = batch\n",
    "                input, target = x.to(self.device), y.to(\n",
    "                    self.device)  # send to device (GPU or CPU)\n",
    "                self.optimizer.zero_grad()  # zerograd the parameters\n",
    "                out = self.model(input)  # one forward pass\n",
    "                loss = self.criterion(out, target)  # calculate loss\n",
    "\n",
    "                loss_value = loss.item()\n",
    "                train_losses.append(loss_value)\n",
    "\n",
    "                loss.backward()  # one backward pass\n",
    "                self.optimizer.step()  # update the parameters\n",
    "\n",
    "            # print the results\n",
    "            print(\n",
    "                f'EPOCH: {epoch+1:0>{len(str(self.epochs))}}/{self.epochs}',\n",
    "                end=' '\n",
    "            )\n",
    "            print(f'LOSS: {np.mean(train_losses):.4f}', end=' ')\n",
    "            # print(f'VAL-LOSS: {np.mean(valid_losses):.4f}', end='\\n')\n",
    "    \n",
    "    def train_one_batch(self):\n",
    "        \"\"\"for debugging reasons only\"\"\"\n",
    "        for epoch in tqdm(range(self.epochs)):\n",
    "            self.model.train()  # train mode\n",
    "            train_batch = next(iter(self.training_DataLoader))\n",
    "\n",
    "            train_losses = []\n",
    "            x, y = train_batch\n",
    "            input, target = x.to(self.device), y.to(\n",
    "                self.device)  # send to device (GPU or CPU)\n",
    "            self.optimizer.zero_grad()  # zerograd the parameters\n",
    "            out = self.model(input)  # one forward pass\n",
    "            loss = self.criterion(out, target)  # calculate loss\n",
    "\n",
    "            loss_value = loss.item()\n",
    "            train_losses.append(loss_value)\n",
    "\n",
    "            loss.backward()  # one backward pass\n",
    "            self.optimizer.step()  # update the parameters\n",
    "\n",
    "            # print the results\n",
    "            print(\n",
    "                f'EPOCH: {epoch+1:0>{len(str(self.epochs))}}/{self.epochs}',\n",
    "                end=' '\n",
    "            )\n",
    "            print(f'LOSS: {np.mean(train_losses):.4f}', end=' ')\n",
    "   \n"
   ]
  },
  {
   "cell_type": "code",
   "execution_count": 20,
   "id": "535ba83a",
   "metadata": {},
   "outputs": [
    {
     "name": "stderr",
     "output_type": "stream",
     "text": [
      " 10%|█         | 1/10 [00:10<01:32, 10.29s/it]"
     ]
    },
    {
     "name": "stdout",
     "output_type": "stream",
     "text": [
      "EPOCH: 01/10 LOSS: 1835.9551 "
     ]
    },
    {
     "name": "stderr",
     "output_type": "stream",
     "text": [
      " 20%|██        | 2/10 [00:20<01:20, 10.12s/it]"
     ]
    },
    {
     "name": "stdout",
     "output_type": "stream",
     "text": [
      "EPOCH: 02/10 LOSS: 746.9572 "
     ]
    },
    {
     "name": "stderr",
     "output_type": "stream",
     "text": [
      " 30%|███       | 3/10 [00:31<01:12, 10.41s/it]"
     ]
    },
    {
     "name": "stdout",
     "output_type": "stream",
     "text": [
      "EPOCH: 03/10 LOSS: 353.9156 "
     ]
    },
    {
     "name": "stderr",
     "output_type": "stream",
     "text": [
      " 40%|████      | 4/10 [00:39<00:57,  9.61s/it]"
     ]
    },
    {
     "name": "stdout",
     "output_type": "stream",
     "text": [
      "EPOCH: 04/10 LOSS: 198.2527 "
     ]
    },
    {
     "name": "stderr",
     "output_type": "stream",
     "text": [
      " 50%|█████     | 5/10 [00:47<00:45,  9.07s/it]"
     ]
    },
    {
     "name": "stdout",
     "output_type": "stream",
     "text": [
      "EPOCH: 05/10 LOSS: 118.5257 "
     ]
    },
    {
     "name": "stderr",
     "output_type": "stream",
     "text": [
      " 60%|██████    | 6/10 [00:55<00:34,  8.72s/it]"
     ]
    },
    {
     "name": "stdout",
     "output_type": "stream",
     "text": [
      "EPOCH: 06/10 LOSS: 71.5413 "
     ]
    },
    {
     "name": "stderr",
     "output_type": "stream",
     "text": [
      " 70%|███████   | 7/10 [01:03<00:25,  8.51s/it]"
     ]
    },
    {
     "name": "stdout",
     "output_type": "stream",
     "text": [
      "EPOCH: 07/10 LOSS: 43.9460 "
     ]
    },
    {
     "name": "stderr",
     "output_type": "stream",
     "text": [
      " 80%|████████  | 8/10 [01:11<00:16,  8.42s/it]"
     ]
    },
    {
     "name": "stdout",
     "output_type": "stream",
     "text": [
      "EPOCH: 08/10 LOSS: 28.2596 "
     ]
    },
    {
     "name": "stderr",
     "output_type": "stream",
     "text": [
      " 90%|█████████ | 9/10 [01:19<00:08,  8.30s/it]"
     ]
    },
    {
     "name": "stdout",
     "output_type": "stream",
     "text": [
      "EPOCH: 09/10 LOSS: 19.1041 "
     ]
    },
    {
     "name": "stderr",
     "output_type": "stream",
     "text": [
      "100%|██████████| 10/10 [01:28<00:00,  8.80s/it]"
     ]
    },
    {
     "name": "stdout",
     "output_type": "stream",
     "text": [
      "EPOCH: 10/10 LOSS: 13.3568 "
     ]
    },
    {
     "name": "stderr",
     "output_type": "stream",
     "text": [
      "\n"
     ]
    }
   ],
   "source": [
    "# model\n",
    "embedding_net = EmbeddingCNN(embedding_dim=128)\n",
    "model = embedding_net.to(device)\n",
    "\n",
    "# margin value\n",
    "margin=0.001\n",
    "\n",
    "# criterion\n",
    "criterion = TripletLoss(margin,  RandomTripletSelector())\n",
    "\n",
    "# optimizer\n",
    "optimizer = torch.optim.Adam(model.parameters(), lr=0.003)\n",
    "\n",
    "# trainer\n",
    "trainer = Trainer(model=model,\n",
    "                  device=device,\n",
    "                  criterion=criterion,\n",
    "                  optimizer=optimizer,\n",
    "                  training_DataLoader=triplets_train_loader,\n",
    "                  validation_DataLoader=None,\n",
    "                  epochs=10)\n",
    "\n",
    "# start training\n",
    "trainer.run_trainer()"
   ]
  },
  {
   "cell_type": "code",
   "execution_count": 21,
   "id": "ebb22daf",
   "metadata": {},
   "outputs": [
    {
     "data": {
      "text/plain": [
       "tensor([[-0.0964,  0.4051, -0.4116, -0.3192, -0.2337, -0.0431,  1.2733, -0.5846,\n",
       "          0.9848,  0.0267,  0.2868,  0.2686,  0.4227, -0.1247,  0.5803, -1.1202,\n",
       "          0.2620,  0.2238,  1.0576, -0.3973, -0.1293, -0.5258,  0.4273, -0.2348,\n",
       "         -0.6830, -1.4351, -0.1906,  0.5831, -0.3543, -0.4046,  0.1151,  0.2084,\n",
       "         -0.9142,  0.5783, -0.2858, -0.2840,  0.2739,  0.4870,  0.1889, -0.1708,\n",
       "         -0.8585, -0.0826,  0.3525,  0.1287,  0.3890,  0.5732,  1.7045, -0.9728,\n",
       "          0.0877, -0.6275, -0.0379,  0.1482,  0.1715,  2.1408, -1.3707, -0.2573,\n",
       "          1.5111, -0.4571, -0.2248,  0.0762,  1.0136,  0.6878, -0.2071, -0.5244,\n",
       "          0.6543, -0.5700, -0.4241, -0.6107, -0.2659,  1.3580, -0.7181, -0.2753,\n",
       "         -0.7806, -0.7344, -0.1613,  0.3497,  0.4109,  0.2702, -0.5903, -0.0699,\n",
       "         -1.5119,  0.2399,  0.3264, -0.0888,  0.1559, -0.3664, -0.0856,  0.4251,\n",
       "         -0.3007,  0.3051,  0.6383,  0.6713, -0.0565, -0.6999,  0.4203,  0.5315,\n",
       "         -0.1535, -0.0867,  0.7617,  0.0791,  0.0832,  0.8892,  0.3802, -1.2591,\n",
       "         -0.0078, -0.4395, -0.0554,  0.1591, -0.4643, -0.1897, -0.7135,  1.1448,\n",
       "          0.9249,  1.2317, -0.1061, -0.7112,  0.4193,  0.2539,  0.4684,  0.7544,\n",
       "         -0.0366,  1.5629,  1.0849,  0.3890,  0.0896, -0.1334, -1.0504, -0.3497]],\n",
       "       grad_fn=<SubBackward0>)"
      ]
     },
     "execution_count": 21,
     "metadata": {},
     "output_type": "execute_result"
    }
   ],
   "source": [
    "# Checking distance between embeddings\n",
    "for batch in triplets_train_loader:\n",
    "    x, y = batch\n",
    "    embed1 = model(x[1].unsqueeze(0))\n",
    "    embed2 = model(x[1000].unsqueeze(0))\n",
    "    break\n",
    "\n",
    "embed1 - embed2"
   ]
  },
  {
   "cell_type": "code",
   "execution_count": 22,
   "id": "fd0cc1db-e473-412e-b6b8-c95adc5438dd",
   "metadata": {
    "id": "fd0cc1db-e473-412e-b6b8-c95adc5438dd"
   },
   "outputs": [],
   "source": [
    "# function to determine performance of model\n",
    "def query_performance(queries, targets, gt, top=1):\n",
    "    assert top >= 1\n",
    "    cnt = 0\n",
    "    for i in range(gt.shape[0]):\n",
    "\n",
    "        q = queries[i][None].float().to(device)\n",
    "        t = targets[i].float().to(device)\n",
    "\n",
    "        with torch.no_grad():\n",
    "\n",
    "            ### MODIFY IF NECESSARY ###\n",
    "            emb_q = trainer.model(q).cpu().numpy()\n",
    "            emb_t = trainer.model(t).cpu().numpy()\n",
    "\n",
    "            dists = cdist(emb_q, emb_t)\n",
    "\n",
    "            if top == 1:\n",
    "                pred = np.argmin(dists)\n",
    "\n",
    "                if pred == gt[i]:\n",
    "                    cnt += 1\n",
    "\n",
    "            else:\n",
    "                pred = np.argsort(dists)\n",
    "                if gt[i] in pred[0, :top].tolist():\n",
    "                    cnt += 1\n",
    "    return (100*cnt/gt.shape[0])\n"
   ]
  },
  {
   "cell_type": "code",
   "execution_count": 23,
   "id": "6c851b38",
   "metadata": {},
   "outputs": [
    {
     "name": "stdout",
     "output_type": "stream",
     "text": [
      "Performance for k=1: 73.33333333333333\n",
      "Performance for k=2: 87.0\n",
      "Performance for k=3: 94.33333333333333\n"
     ]
    }
   ],
   "source": [
    "for k in [1,2, 3]:\n",
    "    print(f'Performance for k={k}: {query_performance(torch.tensor(queries), torch.tensor(targets), gt, top=k)}')"
   ]
  },
  {
   "cell_type": "code",
   "execution_count": 24,
   "id": "9956048f",
   "metadata": {},
   "outputs": [
    {
     "data": {
      "text/plain": [
       "87.0"
      ]
     },
     "execution_count": 24,
     "metadata": {},
     "output_type": "execute_result"
    }
   ],
   "source": [
    "query_performance(torch.tensor(queries), torch.tensor(targets), gt, top=2)"
   ]
  },
  {
   "cell_type": "code",
   "execution_count": 25,
   "id": "3d72a758",
   "metadata": {},
   "outputs": [
    {
     "data": {
      "text/plain": [
       "100.0"
      ]
     },
     "execution_count": 25,
     "metadata": {},
     "output_type": "execute_result"
    }
   ],
   "source": [
    "query_performance(torch.tensor(queries), torch.tensor(targets), gt, top=4)"
   ]
  },
  {
   "cell_type": "code",
   "execution_count": null,
   "id": "068d5e9c-9fcc-44af-99a8-586c4bfa3c9a",
   "metadata": {
    "id": "068d5e9c-9fcc-44af-99a8-586c4bfa3c9a"
   },
   "outputs": [],
   "source": []
  }
 ],
 "metadata": {
  "colab": {
   "include_colab_link": true,
   "provenance": []
  },
  "kernelspec": {
   "display_name": "Python 3.10.10 ('DeepLearning')",
   "language": "python",
   "name": "python3"
  },
  "language_info": {
   "codemirror_mode": {
    "name": "ipython",
    "version": 3
   },
   "file_extension": ".py",
   "mimetype": "text/x-python",
   "name": "python",
   "nbconvert_exporter": "python",
   "pygments_lexer": "ipython3",
   "version": "3.10.10"
  },
  "vscode": {
   "interpreter": {
    "hash": "772f5c06efe5033b11a8184f41cb852e86cb3a1382de2033bafc1ebdfcd67455"
   }
  }
 },
 "nbformat": 4,
 "nbformat_minor": 5
}
