{
 "cells": [
  {
   "attachments": {},
   "cell_type": "markdown",
   "id": "d32f8d18",
   "metadata": {},
   "source": [
    "# Group Details\n",
    "\n",
    "## Group Name: GLS  \n",
    "\n",
    "### Student 1: Fabio D'Agostino\n",
    "\n",
    "### Student 2:\n",
    "\n",
    "### Student 3:"
   ]
  },
  {
   "attachments": {},
   "cell_type": "markdown",
   "id": "faec2056",
   "metadata": {},
   "source": [
    "# Loading Data and Preliminaries"
   ]
  },
  {
   "cell_type": "code",
   "execution_count": 2,
   "id": "7d0580a5",
   "metadata": {},
   "outputs": [],
   "source": [
    "import matplotlib.pyplot as plt\n",
    "import matplotlib\n",
    "import numpy as np"
   ]
  },
  {
   "cell_type": "code",
   "execution_count": 3,
   "id": "b0756591",
   "metadata": {},
   "outputs": [],
   "source": [
    "def load_array(filename, task):\n",
    "    datapoint = np.load(filename)\n",
    "    if task == 'task 1':\n",
    "        initial_state = datapoint['initial_state']\n",
    "        terminal_state = datapoint['terminal_state']\n",
    "        return initial_state, terminal_state\n",
    "    elif task == 'task 2' or task == 'task 3':\n",
    "        whole_trajectory = datapoint['trajectory']\n",
    "        # change shape: (num_bodies, attributes, time) ->  num_bodies, time, attributes\n",
    "        whole_trajectory = np.swapaxes(whole_trajectory, 1, 2)\n",
    "        initial_state = whole_trajectory[:, 0]\n",
    "        target = whole_trajectory[:, 1:, 1:]  # drop the first timepoint (second dim) and mass (last dim) for the prediction task\n",
    "        return initial_state, target\n",
    "    else:\n",
    "        raise NotImplementedError(\"'task' argument should be 'task 1', 'task 2' or 'task 3'!\")\n"
   ]
  },
  {
   "cell_type": "code",
   "execution_count": 4,
   "id": "bb77a4be",
   "metadata": {},
   "outputs": [
    {
     "name": "stdout",
     "output_type": "stream",
     "text": [
      "shape of initial state (model input): (8, 5)\n",
      "shape of terminal state (to be predicted by model): (8, 2)\n",
      "The initial x-coordinate of the body with index 2 in this trajectory was -4.337538425576772\n"
     ]
    }
   ],
   "source": [
    "\"\"\"\n",
    "This cell gives an example of loading a datapoint with numpy for task 1.\n",
    "\n",
    "The arrays returned by the function are structures as follows:\n",
    "initial_state: shape (n_bodies, [mass, x, y, v_x, v_y])\n",
    "terminal_state: shape (n_bodies, [x, y])\n",
    "\n",
    "\"\"\"\n",
    "\n",
    "example = load_array('data/task 1/train/trajectory_8.npz', task='task 1')\n",
    "\n",
    "initial_state, terminal_state = example\n",
    "print(f'shape of initial state (model input): {initial_state.shape}')\n",
    "print(f'shape of terminal state (to be predicted by model): {terminal_state.shape}')\n",
    "\n",
    "body_idx = 2\n",
    "print(f'The initial x-coordinate of the body with index {body_idx} in this trajectory was {initial_state[body_idx, 1]}')"
   ]
  },
  {
   "cell_type": "code",
   "execution_count": 5,
   "id": "e0b4c875",
   "metadata": {},
   "outputs": [
    {
     "data": {
      "text/plain": [
       "numpy.ndarray"
      ]
     },
     "execution_count": 5,
     "metadata": {},
     "output_type": "execute_result"
    }
   ],
   "source": [
    "type(initial_state)"
   ]
  },
  {
   "cell_type": "code",
   "execution_count": 6,
   "id": "f6cdeb84",
   "metadata": {},
   "outputs": [],
   "source": [
    "#Extract training data\n",
    "X_train_list = []\n",
    "y_train_list = []\n",
    "for i in range(900):\n",
    "    initial_state, terminal_state = load_array('data/task 1/train/trajectory_' + str(i) + '.npz', task='task 1')\n",
    "    X_train_list.append(initial_state)\n",
    "    y_train_list.append(terminal_state)"
   ]
  },
  {
   "cell_type": "code",
   "execution_count": 8,
   "id": "6179b477",
   "metadata": {},
   "outputs": [],
   "source": [
    "#Extract training data\n",
    "X_val_list = []\n",
    "y_val_list = []\n",
    "for i in range(100):\n",
    "    initial_state, terminal_state = load_array('data/task 1/test/trajectory_' + str(i+900) + '.npz', task='task 1')\n",
    "    X_val_list.append(initial_state)\n",
    "    y_val_list.append(terminal_state)"
   ]
  },
  {
   "cell_type": "code",
   "execution_count": 79,
   "id": "87314aad",
   "metadata": {},
   "outputs": [
    {
     "data": {
      "text/plain": [
       "array([[ 0.28370052, -9.25453722],\n",
       "       [-4.51021897, -5.13595325],\n",
       "       [ 2.83844977,  5.36202729],\n",
       "       [ 2.12939268,  4.64550475],\n",
       "       [-1.59977861, -8.64922402],\n",
       "       [ 2.4614544 , -7.55374664],\n",
       "       [-4.32206998, -3.49588612],\n",
       "       [-6.08779906,  6.41931202]])"
      ]
     },
     "execution_count": 79,
     "metadata": {},
     "output_type": "execute_result"
    }
   ],
   "source": [
    "example[1]"
   ]
  },
  {
   "cell_type": "code",
   "execution_count": 21,
   "id": "0c5b643c",
   "metadata": {},
   "outputs": [
    {
     "name": "stderr",
     "output_type": "stream",
     "text": [
      "C:\\Users\\dagos\\AppData\\Local\\Temp\\ipykernel_18180\\395197383.py:51: UserWarning: Creating a tensor from a list of numpy.ndarrays is extremely slow. Please consider converting the list to a single numpy.ndarray with numpy.array() before converting to a tensor. (Triggered internally at ..\\torch\\csrc\\utils\\tensor_new.cpp:248.)\n",
      "  edge_attr = torch.tensor(edge_attr, dtype=torch.float)\n"
     ]
    }
   ],
   "source": [
    "import torch\n",
    "import torch.nn as nn\n",
    "import torch.optim as optim\n",
    "from torch_geometric.data import Data, Batch\n",
    "from torch_geometric.nn import GATConv\n",
    "from torch_geometric.loader import DataLoader\n",
    "\n",
    "# Define the GNN model\n",
    "class GNNModel(nn.Module):\n",
    "    def __init__(self, input_size, hidden_size, output_size):\n",
    "        super(GNNModel, self).__init__()\n",
    "        self.conv1 = GATConv(input_size, hidden_size)\n",
    "        self.conv2 = GATConv(hidden_size, output_size)\n",
    "\n",
    "    def forward(self, x, edge_index, batch):\n",
    "        x = self.conv1(x, edge_index)\n",
    "        x = torch.relu(x)\n",
    "        x = self.conv2(x, edge_index)\n",
    "        return x\n",
    "\n",
    "# Convert data to PyTorch Geometric format (no forces between objects)\n",
    "#def convert_to_graph_data(X, y):\n",
    "#    n_bodies, _ = X.shape\n",
    "#    edge_index = []\n",
    "#    for i in range(n_bodies):\n",
    "#        for j in range(i + 1, n_bodies):\n",
    "#            edge_index.append([i, j])\n",
    "#            edge_index.append([j, i])\n",
    "#    edge_index = torch.tensor(edge_index, dtype=torch.long).t().contiguous()\n",
    "#    x = torch.tensor(X, dtype=torch.float)\n",
    "#    y = torch.tensor(y, dtype=torch.float)\n",
    "#    data = Data(x=x, edge_index=edge_index, y=y)\n",
    "#    return data\n",
    "\n",
    "# Convert data to PyTorch Geometric format (with forces between objects)\n",
    "def convert_to_graph_data(X, y):\n",
    "    n_bodies, _ = X.shape\n",
    "    edge_index = []\n",
    "    edge_attr = []\n",
    "    \n",
    "    # Calculate forces between objects\n",
    "    for i in range(n_bodies):\n",
    "        for j in range(i + 1, n_bodies):\n",
    "            force = X[i, 1:3] - X[j, 1:3]  # Force vector [x1-x2, y1-y2]\n",
    "            edge_attr.append(force)\n",
    "            edge_index.append([i, j])\n",
    "            edge_attr.append(-force)  # Negate the force for the opposite direction\n",
    "            edge_index.append([j, i])\n",
    "    \n",
    "    edge_index = torch.tensor(edge_index, dtype=torch.long).t().contiguous()\n",
    "    edge_attr = torch.tensor(edge_attr, dtype=torch.float)\n",
    "    x = torch.tensor(X, dtype=torch.float)\n",
    "    y = torch.tensor(y, dtype=torch.float)\n",
    "    data = Data(x=x, edge_index=edge_index, edge_attr=edge_attr, y=y)\n",
    "    return data\n",
    "\n",
    "# Preprocessing step\n",
    "X_data_train = X_train_list  # List of numpy arrays, each with shape (n_objects, 5)\n",
    "y_data_train = y_train_list  # List of numpy arrays, each with shape (n_objects, 2)\n",
    "\n",
    "# Convert training data to tensors and create DataLoader\n",
    "training_dataset = []\n",
    "for i in range(len(X_data_train)):\n",
    "    data = convert_to_graph_data(X_data_train[i], y_data_train[i])\n",
    "    training_dataset.append(data)\n",
    "training_loader = DataLoader(training_dataset, batch_size=1, shuffle=True)\n",
    "\n",
    "\n",
    "# Preprocessing step\n",
    "X_data_val = X_val_list  # List of numpy arrays, each with shape (n_objects, 5)\n",
    "y_data_val = y_val_list  # List of numpy arrays, each with shape (n_objects, 2)\n",
    "\n",
    "# Convert evaluation data to tensors and create DataLoader\n",
    "val_dataset = []\n",
    "for i in range(len(X_data_val)):\n",
    "    data = convert_to_graph_data(X_data_val[i], y_data_val[i])\n",
    "    val_dataset.append(data)\n",
    "val_loader = DataLoader(val_dataset, batch_size=1, shuffle=False)\n",
    "\n",
    "# Model configuration\n",
    "input_size = 5  # Features per object (mass, x, y, v_x, v_y)\n",
    "hidden_size = 16\n",
    "output_size = 2  # Final position (x, y)\n",
    "\n",
    "# Instantiate the model\n",
    "model = GNNModel(input_size, hidden_size, output_size)\n",
    "\n",
    "# Define loss function and optimizer\n",
    "criterion = nn.MSELoss()\n",
    "optimizer = optim.Adam(model.parameters(), lr=0.001)\n"
   ]
  },
  {
   "cell_type": "code",
   "execution_count": 22,
   "id": "61d1e8ce",
   "metadata": {},
   "outputs": [
    {
     "name": "stdout",
     "output_type": "stream",
     "text": [
      "DataBatch(x=[9, 5], edge_index=[2, 72], edge_attr=[72, 2], y=[9, 2], batch=[9], ptr=[2])\n"
     ]
    }
   ],
   "source": [
    "for data in training_loader:\n",
    "    print(data)\n",
    "    break"
   ]
  },
  {
   "cell_type": "code",
   "execution_count": 23,
   "id": "b88c96c4",
   "metadata": {},
   "outputs": [
    {
     "name": "stdout",
     "output_type": "stream",
     "text": [
      "Epoch 1/100, Loss: 20.4041\n",
      "Epoch 2/100, Loss: 19.0677\n",
      "Epoch 3/100, Loss: 19.0146\n",
      "Epoch 4/100, Loss: 18.9757\n",
      "Epoch 5/100, Loss: 18.9589\n",
      "Epoch 6/100, Loss: 18.9462\n",
      "Epoch 7/100, Loss: 18.9344\n",
      "Epoch 8/100, Loss: 18.9161\n",
      "Epoch 9/100, Loss: 18.9121\n",
      "Epoch 10/100, Loss: 18.9060\n",
      "Epoch 11/100, Loss: 18.9048\n",
      "Epoch 12/100, Loss: 18.8970\n",
      "Epoch 13/100, Loss: 18.8971\n",
      "Epoch 14/100, Loss: 18.8948\n",
      "Epoch 15/100, Loss: 18.8904\n",
      "Epoch 16/100, Loss: 18.8853\n",
      "Epoch 17/100, Loss: 18.8919\n",
      "Epoch 18/100, Loss: 18.8911\n",
      "Epoch 19/100, Loss: 18.8910\n",
      "Epoch 20/100, Loss: 18.8847\n",
      "Epoch 21/100, Loss: 18.8914\n"
     ]
    },
    {
     "ename": "KeyboardInterrupt",
     "evalue": "",
     "output_type": "error",
     "traceback": [
      "\u001b[1;31m---------------------------------------------------------------------------\u001b[0m",
      "\u001b[1;31mKeyboardInterrupt\u001b[0m                         Traceback (most recent call last)",
      "Cell \u001b[1;32mIn[23], line 36\u001b[0m\n\u001b[0;32m     34\u001b[0m \u001b[39m# Train the model\u001b[39;00m\n\u001b[0;32m     35\u001b[0m num_epochs \u001b[39m=\u001b[39m \u001b[39m100\u001b[39m\n\u001b[1;32m---> 36\u001b[0m train(model, training_loader, optimizer, criterion, num_epochs)\n\u001b[0;32m     38\u001b[0m \u001b[39m# Evaluate the model\u001b[39;00m\n\u001b[0;32m     39\u001b[0m loss \u001b[39m=\u001b[39m evaluate(model, training_loader)\n",
      "Cell \u001b[1;32mIn[23], line 10\u001b[0m, in \u001b[0;36mtrain\u001b[1;34m(model, loader, optimizer, criterion, num_epochs)\u001b[0m\n\u001b[0;32m      8\u001b[0m \u001b[39mfor\u001b[39;00m data \u001b[39min\u001b[39;00m loader:\n\u001b[0;32m      9\u001b[0m     optimizer\u001b[39m.\u001b[39mzero_grad()\n\u001b[1;32m---> 10\u001b[0m     out \u001b[39m=\u001b[39m model(data\u001b[39m.\u001b[39;49mx, data\u001b[39m.\u001b[39;49medge_index, data\u001b[39m.\u001b[39;49mbatch)\n\u001b[0;32m     11\u001b[0m     loss \u001b[39m=\u001b[39m criterion(out, data\u001b[39m.\u001b[39my)\n\u001b[0;32m     12\u001b[0m     loss\u001b[39m.\u001b[39mbackward()\n",
      "File \u001b[1;32mc:\\Users\\dagos\\miniconda3\\envs\\mlcourse\\lib\\site-packages\\torch\\nn\\modules\\module.py:1501\u001b[0m, in \u001b[0;36mModule._call_impl\u001b[1;34m(self, *args, **kwargs)\u001b[0m\n\u001b[0;32m   1496\u001b[0m \u001b[39m# If we don't have any hooks, we want to skip the rest of the logic in\u001b[39;00m\n\u001b[0;32m   1497\u001b[0m \u001b[39m# this function, and just call forward.\u001b[39;00m\n\u001b[0;32m   1498\u001b[0m \u001b[39mif\u001b[39;00m \u001b[39mnot\u001b[39;00m (\u001b[39mself\u001b[39m\u001b[39m.\u001b[39m_backward_hooks \u001b[39mor\u001b[39;00m \u001b[39mself\u001b[39m\u001b[39m.\u001b[39m_backward_pre_hooks \u001b[39mor\u001b[39;00m \u001b[39mself\u001b[39m\u001b[39m.\u001b[39m_forward_hooks \u001b[39mor\u001b[39;00m \u001b[39mself\u001b[39m\u001b[39m.\u001b[39m_forward_pre_hooks\n\u001b[0;32m   1499\u001b[0m         \u001b[39mor\u001b[39;00m _global_backward_pre_hooks \u001b[39mor\u001b[39;00m _global_backward_hooks\n\u001b[0;32m   1500\u001b[0m         \u001b[39mor\u001b[39;00m _global_forward_hooks \u001b[39mor\u001b[39;00m _global_forward_pre_hooks):\n\u001b[1;32m-> 1501\u001b[0m     \u001b[39mreturn\u001b[39;00m forward_call(\u001b[39m*\u001b[39margs, \u001b[39m*\u001b[39m\u001b[39m*\u001b[39mkwargs)\n\u001b[0;32m   1502\u001b[0m \u001b[39m# Do not call functions when jit is used\u001b[39;00m\n\u001b[0;32m   1503\u001b[0m full_backward_hooks, non_full_backward_hooks \u001b[39m=\u001b[39m [], []\n",
      "Cell \u001b[1;32mIn[21], line 16\u001b[0m, in \u001b[0;36mGNNModel.forward\u001b[1;34m(self, x, edge_index, batch)\u001b[0m\n\u001b[0;32m     15\u001b[0m \u001b[39mdef\u001b[39;00m \u001b[39mforward\u001b[39m(\u001b[39mself\u001b[39m, x, edge_index, batch):\n\u001b[1;32m---> 16\u001b[0m     x \u001b[39m=\u001b[39m \u001b[39mself\u001b[39;49m\u001b[39m.\u001b[39;49mconv1(x, edge_index)\n\u001b[0;32m     17\u001b[0m     x \u001b[39m=\u001b[39m torch\u001b[39m.\u001b[39mrelu(x)\n\u001b[0;32m     18\u001b[0m     x \u001b[39m=\u001b[39m \u001b[39mself\u001b[39m\u001b[39m.\u001b[39mconv2(x, edge_index)\n",
      "File \u001b[1;32mc:\\Users\\dagos\\miniconda3\\envs\\mlcourse\\lib\\site-packages\\torch\\nn\\modules\\module.py:1501\u001b[0m, in \u001b[0;36mModule._call_impl\u001b[1;34m(self, *args, **kwargs)\u001b[0m\n\u001b[0;32m   1496\u001b[0m \u001b[39m# If we don't have any hooks, we want to skip the rest of the logic in\u001b[39;00m\n\u001b[0;32m   1497\u001b[0m \u001b[39m# this function, and just call forward.\u001b[39;00m\n\u001b[0;32m   1498\u001b[0m \u001b[39mif\u001b[39;00m \u001b[39mnot\u001b[39;00m (\u001b[39mself\u001b[39m\u001b[39m.\u001b[39m_backward_hooks \u001b[39mor\u001b[39;00m \u001b[39mself\u001b[39m\u001b[39m.\u001b[39m_backward_pre_hooks \u001b[39mor\u001b[39;00m \u001b[39mself\u001b[39m\u001b[39m.\u001b[39m_forward_hooks \u001b[39mor\u001b[39;00m \u001b[39mself\u001b[39m\u001b[39m.\u001b[39m_forward_pre_hooks\n\u001b[0;32m   1499\u001b[0m         \u001b[39mor\u001b[39;00m _global_backward_pre_hooks \u001b[39mor\u001b[39;00m _global_backward_hooks\n\u001b[0;32m   1500\u001b[0m         \u001b[39mor\u001b[39;00m _global_forward_hooks \u001b[39mor\u001b[39;00m _global_forward_pre_hooks):\n\u001b[1;32m-> 1501\u001b[0m     \u001b[39mreturn\u001b[39;00m forward_call(\u001b[39m*\u001b[39margs, \u001b[39m*\u001b[39m\u001b[39m*\u001b[39mkwargs)\n\u001b[0;32m   1502\u001b[0m \u001b[39m# Do not call functions when jit is used\u001b[39;00m\n\u001b[0;32m   1503\u001b[0m full_backward_hooks, non_full_backward_hooks \u001b[39m=\u001b[39m [], []\n",
      "File \u001b[1;32mc:\\Users\\dagos\\miniconda3\\envs\\mlcourse\\lib\\site-packages\\torch_geometric\\nn\\conv\\gat_conv.py:213\u001b[0m, in \u001b[0;36mGATConv.forward\u001b[1;34m(self, x, edge_index, edge_attr, size, return_attention_weights)\u001b[0m\n\u001b[0;32m    211\u001b[0m \u001b[39mif\u001b[39;00m \u001b[39misinstance\u001b[39m(x, Tensor):\n\u001b[0;32m    212\u001b[0m     \u001b[39massert\u001b[39;00m x\u001b[39m.\u001b[39mdim() \u001b[39m==\u001b[39m \u001b[39m2\u001b[39m, \u001b[39m\"\u001b[39m\u001b[39mStatic graphs not supported in \u001b[39m\u001b[39m'\u001b[39m\u001b[39mGATConv\u001b[39m\u001b[39m'\u001b[39m\u001b[39m\"\u001b[39m\n\u001b[1;32m--> 213\u001b[0m     x_src \u001b[39m=\u001b[39m x_dst \u001b[39m=\u001b[39m \u001b[39mself\u001b[39;49m\u001b[39m.\u001b[39;49mlin_src(x)\u001b[39m.\u001b[39mview(\u001b[39m-\u001b[39m\u001b[39m1\u001b[39m, H, C)\n\u001b[0;32m    214\u001b[0m \u001b[39melse\u001b[39;00m:  \u001b[39m# Tuple of source and target node features:\u001b[39;00m\n\u001b[0;32m    215\u001b[0m     x_src, x_dst \u001b[39m=\u001b[39m x\n",
      "File \u001b[1;32mc:\\Users\\dagos\\miniconda3\\envs\\mlcourse\\lib\\site-packages\\torch\\nn\\modules\\module.py:1501\u001b[0m, in \u001b[0;36mModule._call_impl\u001b[1;34m(self, *args, **kwargs)\u001b[0m\n\u001b[0;32m   1496\u001b[0m \u001b[39m# If we don't have any hooks, we want to skip the rest of the logic in\u001b[39;00m\n\u001b[0;32m   1497\u001b[0m \u001b[39m# this function, and just call forward.\u001b[39;00m\n\u001b[0;32m   1498\u001b[0m \u001b[39mif\u001b[39;00m \u001b[39mnot\u001b[39;00m (\u001b[39mself\u001b[39m\u001b[39m.\u001b[39m_backward_hooks \u001b[39mor\u001b[39;00m \u001b[39mself\u001b[39m\u001b[39m.\u001b[39m_backward_pre_hooks \u001b[39mor\u001b[39;00m \u001b[39mself\u001b[39m\u001b[39m.\u001b[39m_forward_hooks \u001b[39mor\u001b[39;00m \u001b[39mself\u001b[39m\u001b[39m.\u001b[39m_forward_pre_hooks\n\u001b[0;32m   1499\u001b[0m         \u001b[39mor\u001b[39;00m _global_backward_pre_hooks \u001b[39mor\u001b[39;00m _global_backward_hooks\n\u001b[0;32m   1500\u001b[0m         \u001b[39mor\u001b[39;00m _global_forward_hooks \u001b[39mor\u001b[39;00m _global_forward_pre_hooks):\n\u001b[1;32m-> 1501\u001b[0m     \u001b[39mreturn\u001b[39;00m forward_call(\u001b[39m*\u001b[39margs, \u001b[39m*\u001b[39m\u001b[39m*\u001b[39mkwargs)\n\u001b[0;32m   1502\u001b[0m \u001b[39m# Do not call functions when jit is used\u001b[39;00m\n\u001b[0;32m   1503\u001b[0m full_backward_hooks, non_full_backward_hooks \u001b[39m=\u001b[39m [], []\n",
      "File \u001b[1;32mc:\\Users\\dagos\\miniconda3\\envs\\mlcourse\\lib\\site-packages\\torch_geometric\\nn\\dense\\linear.py:132\u001b[0m, in \u001b[0;36mLinear.forward\u001b[1;34m(self, x)\u001b[0m\n\u001b[0;32m    127\u001b[0m \u001b[39mdef\u001b[39;00m \u001b[39mforward\u001b[39m(\u001b[39mself\u001b[39m, x: Tensor) \u001b[39m-\u001b[39m\u001b[39m>\u001b[39m Tensor:\n\u001b[0;32m    128\u001b[0m \u001b[39m    \u001b[39m\u001b[39mr\u001b[39m\u001b[39m\"\"\"\u001b[39;00m\n\u001b[0;32m    129\u001b[0m \u001b[39m    Args:\u001b[39;00m\n\u001b[0;32m    130\u001b[0m \u001b[39m        x (torch.Tensor): The input features.\u001b[39;00m\n\u001b[0;32m    131\u001b[0m \u001b[39m    \"\"\"\u001b[39;00m\n\u001b[1;32m--> 132\u001b[0m     \u001b[39mreturn\u001b[39;00m F\u001b[39m.\u001b[39;49mlinear(x, \u001b[39mself\u001b[39;49m\u001b[39m.\u001b[39;49mweight, \u001b[39mself\u001b[39;49m\u001b[39m.\u001b[39;49mbias)\n",
      "\u001b[1;31mKeyboardInterrupt\u001b[0m: "
     ]
    }
   ],
   "source": [
    "# Training step\n",
    "def train(model, loader, optimizer, criterion, num_epochs):\n",
    "    model.train()\n",
    "    \n",
    "    for epoch in range(num_epochs):\n",
    "        total_loss = 0\n",
    "        \n",
    "        for data in loader:\n",
    "            optimizer.zero_grad()\n",
    "            out = model(data.x, data.edge_index, data.batch)\n",
    "            loss = criterion(out, data.y)\n",
    "            loss.backward()\n",
    "            optimizer.step()\n",
    "\n",
    "            total_loss += loss.item()\n",
    "\n",
    "        avg_loss = total_loss / len(loader)\n",
    "        print(f\"Epoch {epoch + 1}/{num_epochs}, Loss: {avg_loss:.4f}\")\n",
    "\n",
    "# Evaluation step\n",
    "def evaluate(model, loader):\n",
    "    model.eval()\n",
    "    total_loss = 0\n",
    "    \n",
    "    with torch.no_grad():\n",
    "        for data in loader:\n",
    "            out = model(data.x, data.edge_index, data.batch)\n",
    "            loss = criterion(out, data.y)\n",
    "            total_loss += loss.item()\n",
    "\n",
    "    avg_loss = total_loss / len(loader)\n",
    "    return avg_loss\n",
    "\n",
    "# Train the model\n",
    "num_epochs = 100\n",
    "train(model, training_loader, optimizer, criterion, num_epochs)\n",
    "\n",
    "# Evaluate the model\n",
    "loss = evaluate(model, training_loader)\n",
    "print(f\"Final Evaluation Loss: {loss:.4f}\")\n",
    "\n",
    "# Example prediction\n",
    "#test_X = X_val_list  # Shape: (n_objects, 5)\n",
    "#test_data, _ = convert_to_graph_data(test_X, np.zeros((test_X.shape[0], 2)))\n",
    "#test_batch = torch.tensor([0] * len(test_data.x), dtype=torch.long)  # Assuming all objects belong to the same system\n",
    "#batched_test_data = Batch.from_data_list([test_data])\n",
    "#prediction = model(batched_test_data.x, batched_test_data.edge_index, batched_test_data.batch)\n",
    "#print(\"Predicted terminal positions:\", prediction.tolist())"
   ]
  },
  {
   "cell_type": "code",
   "execution_count": 113,
   "id": "bb837daa",
   "metadata": {},
   "outputs": [
    {
     "name": "stdout",
     "output_type": "stream",
     "text": [
      "Epoch 100/1000, Loss: 6.917230606079102\n",
      "Epoch 200/1000, Loss: 5.944492816925049\n",
      "Epoch 300/1000, Loss: 5.496774196624756\n",
      "Epoch 400/1000, Loss: 5.317768096923828\n",
      "Epoch 500/1000, Loss: 5.1487603187561035\n",
      "Epoch 600/1000, Loss: 4.953726291656494\n",
      "Epoch 700/1000, Loss: 4.842867851257324\n",
      "Epoch 800/1000, Loss: 4.763996124267578\n",
      "Epoch 900/1000, Loss: 4.586665630340576\n",
      "Epoch 1000/1000, Loss: 4.3971781730651855\n",
      "Final Evaluation Loss: 4.415316581726074\n",
      "Predicted terminal positions: [[-0.4754807651042938, 0.8647503852844238]]\n"
     ]
    }
   ],
   "source": [
    "###TRASH LSTM\n",
    "\n",
    "import numpy as np\n",
    "import torch\n",
    "import torch.nn as nn\n",
    "import torch.optim as optim\n",
    "\n",
    "# Define the LSTM model\n",
    "class LSTMModel(nn.Module):\n",
    "    def __init__(self, input_size, hidden_size, output_size):\n",
    "        super(LSTMModel, self).__init__()\n",
    "        #self.hidden_size = hidden_size\n",
    "        #self.lstm = nn.LSTM(input_size, hidden_size, batch_first=True)\n",
    "        self.relu = nn.ReLU()\n",
    "        self.linear_1 = nn.Linear(input_size, 2048)\n",
    "        self.linear_2 = nn.Linear(2048, 1024)\n",
    "        self.linear_3 = nn.Linear(1024, output_size)\n",
    "\n",
    "    def forward(self, x):\n",
    "        #_, (h, _) = self.lstm(x)\n",
    "        x = self.linear_1(x)\n",
    "        x = self.relu(x)\n",
    "        x= self.linear_2(x)\n",
    "        x = self.relu(x)\n",
    "        x= self.linear_3(x)\n",
    "        return x\n",
    "\n",
    "# Preprocessing step\n",
    "X_data = X_train\n",
    "\n",
    "y_data = y_train\n",
    "\n",
    "# Convert data to tensors\n",
    "X = torch.tensor(X_data, dtype=torch.float)\n",
    "y = torch.tensor(y_data, dtype=torch.float)\n",
    "\n",
    "# Model configuration\n",
    "input_size = X_data.shape[1]\n",
    "hidden_size = 16\n",
    "output_size = y_data.shape[1]\n",
    "\n",
    "# Instantiate the model\n",
    "model = LSTMModel(input_size, hidden_size, output_size)\n",
    "\n",
    "# Define loss function and optimizer\n",
    "criterion = nn.MSELoss()\n",
    "optimizer = optim.Adam(model.parameters(), lr=0.01)\n",
    "\n",
    "# Training step\n",
    "def train(model, X, y, optimizer, criterion, num_epochs):\n",
    "    model.train()\n",
    "    \n",
    "    for epoch in range(num_epochs):\n",
    "        optimizer.zero_grad()\n",
    "        out = model(X)\n",
    "        loss = criterion(out, y)\n",
    "        loss.backward()\n",
    "        optimizer.step()\n",
    "        \n",
    "        if (epoch + 1) % 100 == 0:\n",
    "            print(f\"Epoch {epoch + 1}/{num_epochs}, Loss: {loss.item()}\")\n",
    "\n",
    "# Evaluation step\n",
    "def evaluate(model, X, y):\n",
    "    model.eval()\n",
    "    out = model(X)\n",
    "    loss = criterion(out, y)\n",
    "    return loss.item()\n",
    "\n",
    "# Train the model\n",
    "num_epochs = 1000\n",
    "train(model, X, y, optimizer, criterion, num_epochs)\n",
    "\n",
    "# Evaluate the model\n",
    "loss = evaluate(model, X, y)\n",
    "print(f\"Final Evaluation Loss: {loss}\")\n",
    "\n",
    "# Example prediction\n",
    "test_data = np.array([[9.0, 4.0, 4.0, 9.0, 9.0]])\n",
    "test_X = torch.tensor(test_data, dtype=torch.float)\n",
    "prediction = model(test_X)\n",
    "print(\"Predicted terminal positions:\", prediction.tolist())\n"
   ]
  },
  {
   "attachments": {},
   "cell_type": "markdown",
   "id": "059b633c",
   "metadata": {},
   "source": [
    "# Data Handling and Preprocessing"
   ]
  },
  {
   "cell_type": "code",
   "execution_count": 10,
   "id": "e6ecb529",
   "metadata": {},
   "outputs": [],
   "source": [
    "#todo"
   ]
  },
  {
   "cell_type": "code",
   "execution_count": null,
   "id": "f8633eb8",
   "metadata": {},
   "outputs": [],
   "source": []
  },
  {
   "cell_type": "code",
   "execution_count": null,
   "id": "0a99a32b",
   "metadata": {},
   "outputs": [],
   "source": []
  },
  {
   "attachments": {},
   "cell_type": "markdown",
   "id": "18b2874d",
   "metadata": {},
   "source": [
    "# Model Implementation"
   ]
  },
  {
   "cell_type": "code",
   "execution_count": 11,
   "id": "66774050",
   "metadata": {},
   "outputs": [],
   "source": [
    "#todo"
   ]
  },
  {
   "cell_type": "code",
   "execution_count": null,
   "id": "ba598378",
   "metadata": {},
   "outputs": [],
   "source": []
  },
  {
   "cell_type": "code",
   "execution_count": null,
   "id": "95154df7",
   "metadata": {},
   "outputs": [],
   "source": []
  },
  {
   "attachments": {},
   "cell_type": "markdown",
   "id": "dea70d73",
   "metadata": {},
   "source": [
    "# Model Training"
   ]
  },
  {
   "cell_type": "code",
   "execution_count": 12,
   "id": "3af520ae",
   "metadata": {},
   "outputs": [],
   "source": [
    "#todo"
   ]
  },
  {
   "cell_type": "code",
   "execution_count": null,
   "id": "e95af5f9",
   "metadata": {},
   "outputs": [],
   "source": []
  },
  {
   "cell_type": "code",
   "execution_count": null,
   "id": "07e03ddf",
   "metadata": {},
   "outputs": [],
   "source": []
  },
  {
   "attachments": {},
   "cell_type": "markdown",
   "id": "d5fb3b29",
   "metadata": {},
   "source": [
    "# Evaluation"
   ]
  },
  {
   "cell_type": "code",
   "execution_count": 13,
   "id": "bf5fa1b4",
   "metadata": {},
   "outputs": [],
   "source": [
    "#todo"
   ]
  },
  {
   "cell_type": "code",
   "execution_count": null,
   "id": "2280031f",
   "metadata": {},
   "outputs": [],
   "source": []
  },
  {
   "cell_type": "code",
   "execution_count": null,
   "id": "3a8240f1",
   "metadata": {},
   "outputs": [],
   "source": []
  }
 ],
 "metadata": {
  "kernelspec": {
   "display_name": "Python 3 (ipykernel)",
   "language": "python",
   "name": "python3"
  },
  "language_info": {
   "codemirror_mode": {
    "name": "ipython",
    "version": 3
   },
   "file_extension": ".py",
   "mimetype": "text/x-python",
   "name": "python",
   "nbconvert_exporter": "python",
   "pygments_lexer": "ipython3",
   "version": "3.10.9"
  }
 },
 "nbformat": 4,
 "nbformat_minor": 5
}
